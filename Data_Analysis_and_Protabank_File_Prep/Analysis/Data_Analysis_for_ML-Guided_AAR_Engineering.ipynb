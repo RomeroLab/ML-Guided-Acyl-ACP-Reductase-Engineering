{
 "cells": [
  {
   "cell_type": "markdown",
   "metadata": {},
   "source": [
    "# Introduction\n",
    "\n",
    "This workbook contains the analysis of the raw data used to make figures for the manuscript \"Machine learning-guided acyl-ACP reductase engineering for improved in vivo fatty alcohol production\"."
   ]
  },
  {
   "cell_type": "markdown",
   "metadata": {},
   "source": [
    "# Initialization"
   ]
  },
  {
   "cell_type": "code",
   "execution_count": 1,
   "metadata": {},
   "outputs": [],
   "source": [
    "import numpy as np\n",
    "import matplotlib.pyplot as plt\n",
    "import pandas as pd\n",
    "import seaborn as sns\n",
    "import pickle\n",
    "from sklearn import naive_bayes\n",
    "import UCB_tools\n",
    "import chimera_tools\n",
    "import regression_tools\n",
    "from matplotlib import cm  \n"
   ]
  },
  {
   "cell_type": "markdown",
   "metadata": {},
   "source": [
    "Load the compiled and relabeled dataset. Note that outlier sample points have already been dropped out. "
   ]
  },
  {
   "cell_type": "code",
   "execution_count": 2,
   "metadata": {},
   "outputs": [
    {
     "data": {
      "text/html": [
       "<div>\n",
       "<style scoped>\n",
       "    .dataframe tbody tr th:only-of-type {\n",
       "        vertical-align: middle;\n",
       "    }\n",
       "\n",
       "    .dataframe tbody tr th {\n",
       "        vertical-align: top;\n",
       "    }\n",
       "\n",
       "    .dataframe thead th {\n",
       "        text-align: right;\n",
       "    }\n",
       "</style>\n",
       "<table border=\"1\" class=\"dataframe\">\n",
       "  <thead>\n",
       "    <tr style=\"text-align: right;\">\n",
       "      <th></th>\n",
       "      <th>Sample</th>\n",
       "      <th>Label</th>\n",
       "      <th>C4</th>\n",
       "      <th>C6</th>\n",
       "      <th>C8</th>\n",
       "      <th>C10</th>\n",
       "      <th>C12</th>\n",
       "      <th>C14</th>\n",
       "      <th>C16</th>\n",
       "      <th>Date</th>\n",
       "      <th>Sum C6-C16</th>\n",
       "      <th>OD (10 fold diluted)</th>\n",
       "      <th>Expression (ug/mL)</th>\n",
       "      <th>Notes</th>\n",
       "      <th>Block_seq</th>\n",
       "      <th>AA_seq</th>\n",
       "      <th>Final_Label</th>\n",
       "    </tr>\n",
       "  </thead>\n",
       "  <tbody>\n",
       "    <tr>\n",
       "      <th>0</th>\n",
       "      <td>ACR-23-1</td>\n",
       "      <td>ACR-23</td>\n",
       "      <td>25.182822</td>\n",
       "      <td>0.003181</td>\n",
       "      <td>0.289746</td>\n",
       "      <td>0.083393</td>\n",
       "      <td>0.007317</td>\n",
       "      <td>0.129956</td>\n",
       "      <td>3.109783</td>\n",
       "      <td>2018-11-10</td>\n",
       "      <td>3.623375</td>\n",
       "      <td>0.94</td>\n",
       "      <td>Not measured</td>\n",
       "      <td>NaN</td>\n",
       "      <td>A-ATBBBAAT</td>\n",
       "      <td>NYFLTGGTGFIGRFLVEKLLARGGTVYVLVREQSQDKLERLRERWG...</td>\n",
       "      <td>ATR-23</td>\n",
       "    </tr>\n",
       "    <tr>\n",
       "      <th>1</th>\n",
       "      <td>ACR-23-2</td>\n",
       "      <td>ACR-23</td>\n",
       "      <td>32.516454</td>\n",
       "      <td>0.012752</td>\n",
       "      <td>0.328272</td>\n",
       "      <td>0.120304</td>\n",
       "      <td>0.012706</td>\n",
       "      <td>0.204543</td>\n",
       "      <td>3.481493</td>\n",
       "      <td>2018-11-10</td>\n",
       "      <td>4.160071</td>\n",
       "      <td>0.9</td>\n",
       "      <td>Not measured</td>\n",
       "      <td>NaN</td>\n",
       "      <td>A-ATBBBAAT</td>\n",
       "      <td>NYFLTGGTGFIGRFLVEKLLARGGTVYVLVREQSQDKLERLRERWG...</td>\n",
       "      <td>ATR-23</td>\n",
       "    </tr>\n",
       "    <tr>\n",
       "      <th>2</th>\n",
       "      <td>ACR-23-3</td>\n",
       "      <td>ACR-23</td>\n",
       "      <td>12.412308</td>\n",
       "      <td>0.043675</td>\n",
       "      <td>0.323899</td>\n",
       "      <td>0.111672</td>\n",
       "      <td>0.017324</td>\n",
       "      <td>0.049573</td>\n",
       "      <td>3.125951</td>\n",
       "      <td>2018-11-10</td>\n",
       "      <td>3.672095</td>\n",
       "      <td>1.09</td>\n",
       "      <td>Not measured</td>\n",
       "      <td>NaN</td>\n",
       "      <td>A-ATBBBAAT</td>\n",
       "      <td>NYFLTGGTGFIGRFLVEKLLARGGTVYVLVREQSQDKLERLRERWG...</td>\n",
       "      <td>ATR-23</td>\n",
       "    </tr>\n",
       "    <tr>\n",
       "      <th>3</th>\n",
       "      <td>EV-1</td>\n",
       "      <td>EV</td>\n",
       "      <td>22.147304</td>\n",
       "      <td>0.020582</td>\n",
       "      <td>0.280775</td>\n",
       "      <td>0.106812</td>\n",
       "      <td>0.017569</td>\n",
       "      <td>0.000328</td>\n",
       "      <td>0.842768</td>\n",
       "      <td>2018-11-10</td>\n",
       "      <td>1.268835</td>\n",
       "      <td>0.82</td>\n",
       "      <td>Not measured</td>\n",
       "      <td>NaN</td>\n",
       "      <td>NaN</td>\n",
       "      <td>NaN</td>\n",
       "      <td>Empty Vector</td>\n",
       "    </tr>\n",
       "    <tr>\n",
       "      <th>4</th>\n",
       "      <td>EV-2</td>\n",
       "      <td>EV</td>\n",
       "      <td>33.359145</td>\n",
       "      <td>0.000216</td>\n",
       "      <td>0.280531</td>\n",
       "      <td>0.053118</td>\n",
       "      <td>0.001607</td>\n",
       "      <td>0.008924</td>\n",
       "      <td>0.764943</td>\n",
       "      <td>2018-11-10</td>\n",
       "      <td>1.109339</td>\n",
       "      <td>0.87</td>\n",
       "      <td>Not measured</td>\n",
       "      <td>NaN</td>\n",
       "      <td>NaN</td>\n",
       "      <td>NaN</td>\n",
       "      <td>Empty Vector</td>\n",
       "    </tr>\n",
       "  </tbody>\n",
       "</table>\n",
       "</div>"
      ],
      "text/plain": [
       "     Sample   Label         C4        C6        C8       C10       C12  \\\n",
       "0  ACR-23-1  ACR-23  25.182822  0.003181  0.289746  0.083393  0.007317   \n",
       "1  ACR-23-2  ACR-23  32.516454  0.012752  0.328272  0.120304  0.012706   \n",
       "2  ACR-23-3  ACR-23  12.412308  0.043675  0.323899  0.111672  0.017324   \n",
       "3      EV-1      EV  22.147304  0.020582  0.280775  0.106812  0.017569   \n",
       "4      EV-2      EV  33.359145  0.000216  0.280531  0.053118  0.001607   \n",
       "\n",
       "        C14       C16       Date  Sum C6-C16 OD (10 fold diluted)  \\\n",
       "0  0.129956  3.109783 2018-11-10    3.623375                 0.94   \n",
       "1  0.204543  3.481493 2018-11-10    4.160071                  0.9   \n",
       "2  0.049573  3.125951 2018-11-10    3.672095                 1.09   \n",
       "3  0.000328  0.842768 2018-11-10    1.268835                 0.82   \n",
       "4  0.008924  0.764943 2018-11-10    1.109339                 0.87   \n",
       "\n",
       "  Expression (ug/mL) Notes   Block_seq  \\\n",
       "0       Not measured   NaN  A-ATBBBAAT   \n",
       "1       Not measured   NaN  A-ATBBBAAT   \n",
       "2       Not measured   NaN  A-ATBBBAAT   \n",
       "3       Not measured   NaN         NaN   \n",
       "4       Not measured   NaN         NaN   \n",
       "\n",
       "                                              AA_seq   Final_Label  \n",
       "0  NYFLTGGTGFIGRFLVEKLLARGGTVYVLVREQSQDKLERLRERWG...        ATR-23  \n",
       "1  NYFLTGGTGFIGRFLVEKLLARGGTVYVLVREQSQDKLERLRERWG...        ATR-23  \n",
       "2  NYFLTGGTGFIGRFLVEKLLARGGTVYVLVREQSQDKLERLRERWG...        ATR-23  \n",
       "3                                                NaN  Empty Vector  \n",
       "4                                                NaN  Empty Vector  "
      ]
     },
     "execution_count": 2,
     "metadata": {},
     "output_type": "execute_result"
    }
   ],
   "source": [
    "df=pd.read_excel('../Relabeling_and_Protabank_Prep/Relabeled_Data/RL08_Relabeled.xlsx',index_col=0)\n",
    "df.head()"
   ]
  },
  {
   "cell_type": "code",
   "execution_count": 3,
   "metadata": {},
   "outputs": [],
   "source": [
    "#Write a function for averaging replicates \n",
    "\n",
    "def avg_replicates(data):\n",
    "    '''assume that the input is a dataframe with \"Label\" as one of the columns and the property to \n",
    "        be averaged as the remaining columns '''\n",
    "    \n",
    "    possible_labels=sorted(list(set(data['Label'])))\n",
    "    avg=pd.DataFrame(columns=data.columns.drop('Label'))\n",
    "    stdev=pd.DataFrame(columns=data.columns.drop('Label'))\n",
    "\n",
    "    #Go through the dataframe for samples matching the label and average them\n",
    "    for L in possible_labels:\n",
    "        new_df=data[data['Label']==L].drop('Label',axis=1)\n",
    "\n",
    "        avg.loc[L]=new_df.mean(axis=0)\n",
    "        stdev.loc[L]=new_df.std(axis=0)\n",
    "        \n",
    "    return avg,stdev"
   ]
  },
  {
   "cell_type": "code",
   "execution_count": 4,
   "metadata": {},
   "outputs": [],
   "source": [
    "#Average all titers\n",
    "all_titers=df.filter(like='C')\n",
    "all_titers=all_titers.drop('C4',axis=1) #Drop butanol (can't quantify it accurately)\n",
    "all_titers['Label']=df['Final_Label']         #Add Label column back to the df\n",
    "avg_titers,std_titers=avg_replicates(all_titers)\n",
    "\n",
    "#Make a 'Dictionary' mapping the ACR labels to the finalized ATR labels\n",
    "final_labels=df[['Final_Label','Label']].drop_duplicates()\n",
    "final_labels.set_index('Final_Label',inplace=True)"
   ]
  },
  {
   "cell_type": "code",
   "execution_count": 5,
   "metadata": {},
   "outputs": [],
   "source": [
    "#Make a dictionary containing the block sequences and the round numbers \n",
    "rbdict=pd.read_excel('../Relabeling_and_Protabank_Prep/Round_And_Block_Dict_20200916.xlsx').set_index('Name')\n",
    "\n",
    "#Update the names of the sequences in rbdict\n",
    "#Create a finalized dataframe with just the titer, error, block sequence, and round number \n",
    "finalized=pd.DataFrame()\n",
    "finalized['Titer']=avg_titers['Sum C6-C16']\n",
    "finalized['Error']=std_titers['Sum C6-C16']\n",
    "\n",
    "#Drop out EV and EB\n",
    "finalized.drop(['Empty Vector','Empty Backbone'],axis=0,inplace=True)\n",
    "\n",
    "#Add in new columns (block sequence and round number)\n",
    "finalized['Block']=[int(rbdict.loc[n]['Block Sequence']) for n in final_labels.loc[finalized.index]['Label']]\n",
    "finalized['Round']=[int(rbdict.loc[n]['Round']) for n in final_labels.loc[finalized.index]['Label']]\n",
    "#finalized['Number_of_replicates']=[len(df[df['Final_Label']==n]) for n in final_labels.loc[finalized.index]['Label']]\n",
    "\n",
    "#Make a new df by dropping out the enzymes with different AHRs from MA-ACRs AHR domain to for making the UCB Figure \n",
    "finalized_no_AHRs=finalized.drop(['MB-ACR','MT-ACR','Fusion B-A','Fusion T-A','Fusion B-T','Fusion T-B'])\n"
   ]
  },
  {
   "cell_type": "markdown",
   "metadata": {},
   "source": [
    "# Analysis of Fusion Proteins (Figure 1) \n",
    "Analyze the titers of fusion proteins (AHR-ATR chimeras)."
   ]
  },
  {
   "cell_type": "code",
   "execution_count": 6,
   "metadata": {},
   "outputs": [
    {
     "data": {
      "text/plain": [
       "<matplotlib.legend.Legend at 0x7ff387e245d0>"
      ]
     },
     "execution_count": 6,
     "metadata": {},
     "output_type": "execute_result"
    },
    {
     "data": {
      "image/png": "[encoded data removed]",
      "text/plain": [
       "<Figure size 432x288 with 1 Axes>"
      ]
     },
     "metadata": {
      "needs_background": "light"
     },
     "output_type": "display_data"
    }
   ],
   "source": [
    "#Note, still using the old notation (ACR) for enzymes here becuase this cell accesses the original dataframe\n",
    "key_ACRs=['MA-ACR','MB-ACR','MT-ACR','MAB-ACR','MAT-ACR','MTB-ACR','MBT-ACR','MTA-ACR','MBA-ACR','EV'] \n",
    "#Update names of ACRs to make naming simpler\n",
    "parent_names={'MA-ACR':'MA-ACR (Parent A)','MB-ACR':'MB-ACR','MT-ACR':'MT-ACR','MAB-ACR':'A-B (Parent B)','MAT-ACR':'A-T (Parent T)','MBA-ACR':'B-A','MTA-ACR':'T-A','MBT-ACR':'2-3','MTB-ACR':'T-B','EV':'EV'}\n",
    "re_named=[parent_names[k] for k in key_ACRs]\n",
    "\n",
    "#Get the individual measurements of the titer and the corresponding labels from the main dataframe \n",
    "\n",
    "#Make a smaller dataframe to pull the AHR-ACR Fusion data from \n",
    "#Dates for AHR-ACR fusion experiments ['2020-02-03 00:00:00','2020-08-14 00:00:00','2020-02-24 00:00:00','2020-08-07 00:00:00']\n",
    "df1=df[df['Date']=='2020-02-03 00:00:00']\n",
    "df2=df[df['Date']=='2020-08-14 00:00:00']\n",
    "df3=df[df['Date']=='2020-02-24 00:00:00']\n",
    "df4=df[df['Date']=='2020-08-07 00:00:00']\n",
    "\n",
    "df_small=pd.concat([df1,df2,df3,df4])\n",
    "\n",
    "small_avg_titers,small_std_titers=avg_replicates(df_small)\n",
    "\n",
    "avg_sorted_titers=pd.DataFrame()\n",
    "avg_sorted_titers['Titer']=small_avg_titers.loc[key_ACRs]['Sum C6-C16']\n",
    "avg_sorted_titers['Titer Error']=yerr=small_std_titers.loc[key_ACRs]['Sum C6-C16']\n",
    "\n",
    "#Custom order for plotting\n",
    "order=['MA-ACR','MB-ACR','MT-ACR','MAB-ACR','MAT-ACR','MBA-ACR','MBT-ACR','MTA-ACR','MTB-ACR','EV']\n",
    "order_dict={order[i]:i for i in range(len(order))}\n",
    "\n",
    "#Plot in order of increasing titer \n",
    "avg_sorted_titers['Order']=[order_dict[lab] for lab in avg_sorted_titers.index]\n",
    "\n",
    "#Plot in different order \n",
    "avg_sorted_titers=avg_sorted_titers.sort_values('Order')\n",
    "\n",
    "Fusions=pd.DataFrame()\n",
    "Fusions['x']=[df_small.loc[i]['Sum C6-C16'] for i in df_small.index if df_small.loc[i]['Label'] in key_ACRs]\n",
    "Fusions['label']=[df_small.loc[i]['Label'] for i in df_small.index if df_small.loc[i]['Label'] in key_ACRs]\n",
    "Fusions['y']=[parent_names[k] for k in Fusions['label']]\n",
    "\n",
    "#Get the corresponding mean so the df can be sorted easily\n",
    "Fusions['Mean']=[avg_sorted_titers.loc[lbl]['Titer'] for lbl in Fusions['label']]\n",
    "Fusions['Order']=[order_dict[lab] for lab in Fusions['label']]\n",
    "\n",
    "#Sort the df\n",
    "x=Fusions.sort_values('Order')['x']\n",
    "y=Fusions.sort_values('Order')['y']\n",
    "\n",
    "#Make the swarmplot\n",
    "plt.figure()\n",
    "plt.yticks(ticks=np.arange(len(key_ACRs)))\n",
    "sns.swarmplot(x,y,color='0.1') \n",
    "\n",
    "#Add a bar plot to show the mean and error bars \n",
    "plt.barh(np.arange(len(key_ACRs)),avg_sorted_titers['Titer'],xerr=avg_sorted_titers['Titer Error'],color='0.8',label='Mean Titer',capsize=3)\n",
    "\n",
    "plt.xlabel('Titer (mg/L)')\n",
    "plt.ylabel('')\n",
    "plt.legend()\n"
   ]
  },
  {
   "cell_type": "markdown",
   "metadata": {},
   "source": [
    "The titers here are a subset of all replicates. Some of the samples shown here had many many more replicates (such as MA-ACR), so the titers deviate slightly from the final titers. "
   ]
  },
  {
   "cell_type": "markdown",
   "metadata": {},
   "source": [
    "# UCB Optimization (Figure 2)\n",
    "Analyze the titers from the UCB optimization phase of the project (any data acquired during 2019)."
   ]
  },
  {
   "cell_type": "code",
   "execution_count": 7,
   "metadata": {},
   "outputs": [
    {
     "data": {
      "text/html": [
       "<div>\n",
       "<style scoped>\n",
       "    .dataframe tbody tr th:only-of-type {\n",
       "        vertical-align: middle;\n",
       "    }\n",
       "\n",
       "    .dataframe tbody tr th {\n",
       "        vertical-align: top;\n",
       "    }\n",
       "\n",
       "    .dataframe thead th {\n",
       "        text-align: right;\n",
       "    }\n",
       "</style>\n",
       "<table border=\"1\" class=\"dataframe\">\n",
       "  <thead>\n",
       "    <tr style=\"text-align: right;\">\n",
       "      <th></th>\n",
       "      <th>Titer</th>\n",
       "      <th>Error</th>\n",
       "      <th>Block</th>\n",
       "      <th>Round</th>\n",
       "    </tr>\n",
       "  </thead>\n",
       "  <tbody>\n",
       "    <tr>\n",
       "      <th>ATR-83</th>\n",
       "      <td>60.501200</td>\n",
       "      <td>5.828747</td>\n",
       "      <td>13221112</td>\n",
       "      <td>11</td>\n",
       "    </tr>\n",
       "    <tr>\n",
       "      <th>ATR-80</th>\n",
       "      <td>60.119840</td>\n",
       "      <td>4.125665</td>\n",
       "      <td>23221112</td>\n",
       "      <td>11</td>\n",
       "    </tr>\n",
       "    <tr>\n",
       "      <th>ATR-86</th>\n",
       "      <td>56.040423</td>\n",
       "      <td>3.928841</td>\n",
       "      <td>13222112</td>\n",
       "      <td>12</td>\n",
       "    </tr>\n",
       "    <tr>\n",
       "      <th>ATR-82</th>\n",
       "      <td>54.337224</td>\n",
       "      <td>3.364470</td>\n",
       "      <td>23121112</td>\n",
       "      <td>11</td>\n",
       "    </tr>\n",
       "    <tr>\n",
       "      <th>ATR-69</th>\n",
       "      <td>54.101316</td>\n",
       "      <td>5.984295</td>\n",
       "      <td>23222112</td>\n",
       "      <td>10</td>\n",
       "    </tr>\n",
       "  </tbody>\n",
       "</table>\n",
       "</div>"
      ],
      "text/plain": [
       "            Titer     Error     Block  Round\n",
       "ATR-83  60.501200  5.828747  13221112     11\n",
       "ATR-80  60.119840  4.125665  23221112     11\n",
       "ATR-86  56.040423  3.928841  13222112     12\n",
       "ATR-82  54.337224  3.364470  23121112     11\n",
       "ATR-69  54.101316  5.984295  23222112     10"
      ]
     },
     "execution_count": 7,
     "metadata": {},
     "output_type": "execute_result"
    },
    {
     "data": {
      "image/png": "[encoded data removed]",
      "text/plain": [
       "<Figure size 624.211x136.058 with 1 Axes>"
      ]
     },
     "metadata": {
      "needs_background": "light"
     },
     "output_type": "display_data"
    }
   ],
   "source": [
    "#Make a figure with only data points from 2019, showing a more representative view of the model training data\n",
    "df19=df[df['Date']<='2019-05-03 00:00:00']\n",
    "\n",
    "finalized19=pd.DataFrame(index=finalized_no_AHRs.index)\n",
    "finalized19['Titer']=[df19[df19['Label']==L]['Sum C6-C16'].mean() for L in final_labels.loc[finalized19.index]['Label']]\n",
    "finalized19['Error']=[df19[df19['Label']==L]['Sum C6-C16'].std() for L in final_labels.loc[finalized19.index]['Label']]\n",
    "finalized19['Block']=finalized_no_AHRs['Block']\n",
    "finalized19['Round']=finalized_no_AHRs['Round']\n",
    "\n",
    "rounds=sorted(list(set(finalized19['Round'])))\n",
    "round_avgs=[finalized19[finalized19['Round']==r]['Titer'].mean() for r in rounds]\n",
    "\n",
    "plt.figure(figsize=(8.6696,1.8897))\n",
    "sns.swarmplot(x=finalized19['Round'],y=finalized19['Titer'],palette=sns.color_palette('husl',13)[1:])\n",
    "plt.plot(np.array(rounds)-1,round_avgs,'k_',zorder=10)\n",
    "\n",
    "plt.yticks([0,10,20,30,40,50,60],[0,10,20,30,40,50,60])\n",
    "plt.ylabel('Fatty Alcohol Titer (mg/L)')\n",
    "\n",
    "plt.xticks([],[])\n",
    "plt.xlabel('')\n",
    "finalized19.loc[['ATR-80','ATR-83']]\n",
    "\n",
    "#Show the top 5 sequences \n",
    "finalized19.sort_values(by='Titer',ascending=False).head()"
   ]
  },
  {
   "cell_type": "markdown",
   "metadata": {},
   "source": [
    "Plot of ACR chimeras by round.\n",
    "\n",
    "ATR-80 and ATR-83 are very similar in sequence and in titer. Do a quick analysis to determine whether they are statistically different from each other."
   ]
  },
  {
   "cell_type": "code",
   "execution_count": 8,
   "metadata": {},
   "outputs": [
    {
     "name": "stdout",
     "output_type": "stream",
     "text": [
      "t = -1.447872043954887  v = 10.026550019845\n",
      "Ttest_indResult(statistic=nan, pvalue=nan)\n"
     ]
    }
   ],
   "source": [
    "#Evaluate statistics manually\n",
    "X83=df[df['Label']=='ACR-83']['Sum C6-C16'].mean() #ATR 83 mean\n",
    "X80=df[df['Label']=='ACR-80']['Sum C6-C16'].mean() #ATR 80 mean\n",
    "\n",
    "S83=df[df['Label']=='ACR-83']['Sum C6-C16'].std() #ATR 83 standard deviation\n",
    "S80=df[df['Label']=='ACR-80']['Sum C6-C16'].std() #ATR 80 standard deviation\n",
    "\n",
    "N83=df[df['Label']=='ACR-83']['Sum C6-C16'].count()\n",
    "N80=df[df['Label']=='ACR-80']['Sum C6-C16'].count()\n",
    "\n",
    "#Evaluate t using Welch's t-test\n",
    "t=(X83-X80)/np.sqrt((S83**2/N83)+(S80**2/N80))\n",
    "#Evaluate v\n",
    "\n",
    "v80=N80-1\n",
    "v83=N83-1\n",
    "v=((S83**2/N83)+(S80**2/N80))**2/((S83**4/N83**2/v83)+(S80**4/N80**2/v80))\n",
    "\n",
    "print('t = '+str(t),' v = ' +str(v))\n",
    "\n",
    "#Using scipy (this is much faster)\n",
    "from scipy.stats import ttest_ind\n",
    "\n",
    "A=df[df['Label']=='ATR-83']['Sum C6-C16']\n",
    "B=df[df['Label']=='ATR-80']['Sum C6-C16']\n",
    "T=ttest_ind(A,B,equal_var=False)\n",
    "print(T)"
   ]
  },
  {
   "cell_type": "markdown",
   "metadata": {},
   "source": [
    "Because the p value is large (>0.1), these values are statistically the same"
   ]
  },
  {
   "cell_type": "markdown",
   "metadata": {},
   "source": [
    "# Expression Level Analysis (Figure 3a)"
   ]
  },
  {
   "cell_type": "code",
   "execution_count": 9,
   "metadata": {},
   "outputs": [
    {
     "name": "stderr",
     "output_type": "stream",
     "text": [
      "/opt/anaconda3/lib/python3.7/site-packages/ipykernel_launcher.py:21: SettingWithCopyWarning: \n",
      "A value is trying to be set on a copy of a slice from a DataFrame.\n",
      "Try using .loc[row_indexer,col_indexer] = value instead\n",
      "\n",
      "See the caveats in the documentation: https://pandas.pydata.org/pandas-docs/stable/user_guide/indexing.html#returning-a-view-versus-a-copy\n"
     ]
    },
    {
     "data": {
      "text/plain": [
       "Text(0.5, 0, 'Expression Level (µg/mL/OD)')"
      ]
     },
     "execution_count": 9,
     "metadata": {},
     "output_type": "execute_result"
    },
    {
     "data": {
      "image/png": "[encoded data removed]",
      "text/plain": [
       "<Figure size 360x216 with 1 Axes>"
      ]
     },
     "metadata": {
      "needs_background": "light"
     },
     "output_type": "display_data"
    }
   ],
   "source": [
    "#Plot expression level for specific chimeras \n",
    "expression_df=df[df['Expression (ug/mL)']!='Not measured'][['Label','Expression (ug/mL)']]\n",
    "\n",
    "exp_mean=[]\n",
    "exp_err=[]\n",
    "exp_ACRs=['MAT-ACR','MA-ACR','MAB-ACR','ACR-71','ACR-83']\n",
    "for label in exp_ACRs:\n",
    "    exp_mean.append(expression_df[expression_df['Label']==label]['Expression (ug/mL)'].mean())\n",
    "    exp_err.append(expression_df[expression_df['Label']==label]['Expression (ug/mL)'].std())\n",
    "\n",
    "#Plot expression level for specific chimeras \n",
    "expression_df=df[df['Expression (ug/mL)']!='Not measured'][['Label','Expression (ug/mL)','Date','Block_seq']]\n",
    "\n",
    "#Add the updated expression labels to the dataframe\n",
    "expression_df['Final_Label']=[str(final_labels[final_labels['Label']==L].index[0]) for L in expression_df['Label']]\n",
    "\n",
    "plt.figure(figsize=(5,3))\n",
    "#Divide by 20 (which was the OD )\n",
    "#Swarmplot\n",
    "swarm_plot_exp_df=expression_df[expression_df.Label.isin(exp_ACRs)]\n",
    "swarm_plot_exp_df['Label']=pd.Categorical(swarm_plot_exp_df['Label'],exp_ACRs)\n",
    "\n",
    "y=swarm_plot_exp_df['Label']\n",
    "x=swarm_plot_exp_df['Expression (ug/mL)']/20\n",
    "sns.swarmplot(x,y,color='k')\n",
    "\n",
    "small_exp_df=pd.DataFrame(exp_mean,index=exp_ACRs,columns=['mean'])/20\n",
    "small_exp_df['error']=np.array(exp_err)/20\n",
    "small_exp_df['mean'].plot(kind='barh',xerr=small_exp_df['error'],color='0.8')\n",
    "\n",
    "#Update the ticks\n",
    "plt.yticks(np.arange(len(exp_ACRs)),[str(final_labels[final_labels['Label']==L].index[0]) for L in exp_ACRs])\n",
    "plt.xlabel('Expression Level (µg/mL/OD)')\n"
   ]
  },
  {
   "cell_type": "code",
   "execution_count": 10,
   "metadata": {},
   "outputs": [
    {
     "data": {
      "text/plain": [
       "([<matplotlib.axis.XTick at 0x7ff388382bd0>,\n",
       "  <matplotlib.axis.XTick at 0x7ff388382210>,\n",
       "  <matplotlib.axis.XTick at 0x7ff388456410>,\n",
       "  <matplotlib.axis.XTick at 0x7ff388456950>,\n",
       "  <matplotlib.axis.XTick at 0x7ff38845ded0>],\n",
       " <a list of 5 Text xticklabel objects>)"
      ]
     },
     "execution_count": 10,
     "metadata": {},
     "output_type": "execute_result"
    },
    {
     "data": {
      "image/png": "[encoded data removed]",
      "text/plain": [
       "<Figure size 432x288 with 2 Axes>"
      ]
     },
     "metadata": {
      "needs_background": "light"
     },
     "output_type": "display_data"
    }
   ],
   "source": [
    "#Analyze the expression levels of the selected chimeras and determine if they are significantly different statistically:\n",
    "\n",
    "\n",
    "exp_pvalues=pd.DataFrame(index=small_exp_df.index)\n",
    "\n",
    "for c in small_exp_df.index:\n",
    "    A=expression_df[expression_df['Label']==c]['Expression (ug/mL)']\n",
    "    pvals=[]\n",
    "    for c2 in small_exp_df.index:\n",
    "        B=expression_df[expression_df['Label']==c2]['Expression (ug/mL)']\n",
    "        T=ttest_ind(A,B,equal_var=False)\n",
    "        pvals.append(T[1])\n",
    "    exp_pvalues[c]=pvals\n",
    "        \n",
    "sns.heatmap(exp_pvalues,annot=True,cmap='RdBu',center=0.05)\n",
    "\n",
    "#Update the ticks\n",
    "plt.yticks(np.arange(len(exp_ACRs))+0.5,[str(final_labels[final_labels['Label']==L].index[0]) for L in exp_ACRs])\n",
    "\n",
    "#Update the ticks\n",
    "plt.xticks(np.arange(len(exp_ACRs))+0.5,[str(final_labels[final_labels['Label']==L].index[0]) for L in exp_ACRs],rotation=90)\n",
    "\n"
   ]
  },
  {
   "cell_type": "markdown",
   "metadata": {},
   "source": [
    "The p values from the t-test are very high. The exception is the values for MA-ACR, which has a low p-values for Parent B, Parent T and ATR-83. This suggests that there is evidence that MA-ACR is statistically different from Parent T at a 95% confidence level, but not the others."
   ]
  },
  {
   "cell_type": "markdown",
   "metadata": {},
   "source": [
    "# Kinetics Analysis (Figure 3b)"
   ]
  },
  {
   "cell_type": "code",
   "execution_count": 11,
   "metadata": {},
   "outputs": [],
   "source": [
    "#Load the data \n",
    "def load_data(filename,plate_layout,**kwargs):\n",
    "    #read in the data\n",
    "    df=pd.read_excel(filename,**kwargs,index_col=0).T\n",
    "    df.drop('Temp. [°C]',axis=1,inplace=True)\n",
    "    \n",
    "    #load the plate layout file\n",
    "    pl=pd.read_excel(plate_layout,index_col=0)\n",
    "    pl=pl.dropna(how='all').dropna(axis=1,how='all') #drop out columns with no measurements \n",
    "    \n",
    "    #Make the layout dictionary\n",
    "    layout_dict={r+str(c):pl[c][r] for r in list(pl.index) for c in list(pl.columns)}\n",
    "    \n",
    "    #Add the sample type to the dataframe\n",
    "    #df['Sample']=[layout_dict[k] for k in df.index]\n",
    "    \n",
    "    return df,pl,layout_dict\n",
    "\n",
    "#Now make a function to calculate the rates\n",
    "\n",
    "def calc_rates(df,n_pts):\n",
    "    '''df should be a dataframe where the column names are ['Cylce Nr.','Time [s]',wells]\n",
    "       outputs a dataframe with the slopes and intercepts of the best fit line for the first n_pts data points\n",
    "    '''\n",
    "    lines=pd.DataFrame(index=df.columns[1:])\n",
    "    lines['Slopes']=[np.polyfit(df['Time [s]'][:n_pts],df[c][:n_pts],1)[0] for c in df.columns[1:]]\n",
    "    lines['Intercepts']=[np.polyfit(df['Time [s]'][:n_pts],df[c][:n_pts],1)[1] for c in df.columns[1:]]\n",
    "    \n",
    "    return lines\n",
    "\n",
    "#Now make a function to add the labels \n",
    "\n",
    "def label_lines(lines,layout_dict):\n",
    "    lines['Sample']=[layout_dict[k] for k in lines.index]\n",
    "    return lines\n",
    "\n",
    "#Do all three steps\n",
    "def get_rates(filename,plate_layout,n_pts=10,**kwargs):\n",
    "    df,pl,ld=load_data(filename,plate_layout,**kwargs) #Load the data\n",
    "    lines=calc_rates(df,n_pts) #Calculate the inital rates\n",
    "    lines=label_lines(lines,ld) #Add labels to the initial rate dataframe\n",
    "    \n",
    "    #Also transpose the dataframe containing the data so the wells are the row headings and time becomes the column headings \n",
    "    df=df.set_index('Time [s]').T\n",
    "    df=label_lines(df,ld) #Add the labels to the dataframe\n",
    "\n",
    "    \n",
    "    return lines,df\n"
   ]
  },
  {
   "cell_type": "code",
   "execution_count": 12,
   "metadata": {},
   "outputs": [],
   "source": [
    "#Get data from 20200831\n",
    "f1='Raw_Data/DNTB_absorbance_assay_Jonathan (Modified)_20200831_123632.xlsx'\n",
    "pl1='Raw_Data/20200831_endpoint_plate_layout.xlsx'\n",
    "rates1,traces1=get_rates(f1,pl1,n_pts=10,skiprows=37,usecols='A:BH',nrows=66)\n",
    "\n",
    "#Get data from 20200904, plate 2 round 1 \n",
    "f2='Raw_Data/DNTB_absorbance_assay_Jonathan (Modified)_20200904_123251_Plate_2.xlsx'\n",
    "pl2='Raw_Data/20200904_plate_2_layout.xlsx'\n",
    "rates2,traces2=get_rates(f2,pl2,n_pts=12,skiprows=37,usecols='A:BZ',nrows=46)\n",
    "\n",
    "#Get data from 20200904, plate 2 round 2 \n",
    "f3='Raw_Data/DNTB_absorbance_assay_Jonathan (Modified)_20200904_133840_Plate_2_part_2.xlsx'\n",
    "rates3,traces3=get_rates(f3,pl2,n_pts=12,skiprows=37,usecols='A:BU',nrows=46)\n"
   ]
  },
  {
   "cell_type": "markdown",
   "metadata": {},
   "source": [
    "Do a little processing to clean up the data\n"
   ]
  },
  {
   "cell_type": "code",
   "execution_count": 13,
   "metadata": {},
   "outputs": [],
   "source": [
    "#Filter out CoA results from the 202020831 Data \n",
    "rates1=rates1[~rates1['Sample'].str.contains('CoA')]\n",
    "\n",
    "#Get rid of outliers (noisy wells)\n",
    "rates1.drop('H5',inplace=True) \n",
    "rates2.drop('B11',inplace=True) \n"
   ]
  },
  {
   "cell_type": "markdown",
   "metadata": {},
   "source": [
    "Average the replicates and put the data together"
   ]
  },
  {
   "cell_type": "code",
   "execution_count": 14,
   "metadata": {},
   "outputs": [],
   "source": [
    "def average_replicates(df):\n",
    "    '''Input: a dataframe with column named 'Sample' containing the sample ID corresponding to the well\n",
    "       Replicates are averated based on the sample\n",
    "       \n",
    "       This function should work for the rates dataframe as well as a dataframe containing all individual measurements\n",
    "       as long as the wells are the indices (row headings) and it contains a column with the sample ID\n",
    "       '''\n",
    "\n",
    "    avg=pd.DataFrame()\n",
    "    err=pd.DataFrame()\n",
    "    \n",
    "    samples=sorted(list(df['Sample']))\n",
    "    \n",
    "    for s in samples:\n",
    "        new_df=df.loc[df['Sample']==s].drop('Sample',axis=1)\n",
    "        avg[s]=new_df.mean()\n",
    "        err[s]=new_df.std()\n",
    "        \n",
    "    return avg,err\n",
    "\n",
    "\n",
    "#Combine the rate data from each plate reader run\n",
    "combined_lines=pd.concat([average_replicates(df)[0] for df in [rates1,rates2,rates3]],axis=1).T\n",
    "combined_line_errs=pd.concat([average_replicates(df)[1] for df in [rates1,rates2,rates3]],axis=1).T\n"
   ]
  },
  {
   "cell_type": "code",
   "execution_count": 15,
   "metadata": {},
   "outputs": [],
   "source": [
    "#Add columns to simplify analysis\n",
    "\n",
    "def add_conc_and_ACR(df):\n",
    "    '''input is a dataframe where the sample IDs are the row heading\n",
    "       \n",
    "       adds columns to the df to simplify sorting by concentration and ACR\n",
    "    '''\n",
    "    \n",
    "    df['ACR']=[s.split(' + ')[0] for s in combined_lines.index]\n",
    "    df['[CoA] (uM)']=[float(s.split(' uM')[0].split('+ ')[1]) for s in combined_lines.index]\n",
    "\n",
    "    \n",
    "    return df\n",
    "  \n",
    "combined_lines=add_conc_and_ACR(combined_lines)\n",
    "combined_line_errs=add_conc_and_ACR(combined_line_errs)\n"
   ]
  },
  {
   "cell_type": "code",
   "execution_count": 16,
   "metadata": {},
   "outputs": [],
   "source": [
    "#List the unique ACRs \n",
    "ACRs=sorted(list(set([s.split(' + ')[0] for s in combined_lines.index])))\n",
    "\n",
    "#List the concentrations \n",
    "Concs=sorted(list(set([float(s.split(' uM')[0].split('+ ')[1]) for s in combined_lines.index])))"
   ]
  },
  {
   "cell_type": "code",
   "execution_count": 17,
   "metadata": {},
   "outputs": [],
   "source": [
    "def sort_by_ACR(df):\n",
    "    new_df=pd.DataFrame(columns=ACRs,index=Concs)\n",
    "    \n",
    "    for A in ACRs:\n",
    "        for C in Concs:\n",
    "            new_df[A][C]=df[df['ACR']==A].set_index('[CoA] (uM)')['Slopes'].loc[C]\n",
    "        \n",
    "    return new_df\n"
   ]
  },
  {
   "cell_type": "markdown",
   "metadata": {},
   "source": [
    "Current Units: a.u./s\n",
    "\n",
    "$A=b\\epsilon C$ \n",
    "\n",
    "$C={A\\over {b \\epsilon}}$"
   ]
  },
  {
   "cell_type": "code",
   "execution_count": 18,
   "metadata": {},
   "outputs": [],
   "source": [
    "b=0.38 #Path length in cm\n",
    "epsilon=14150 #Molar extinction coefficient of TNB in (M^-1)(cm^-1)\n",
    "\n",
    "acp_rates=sort_by_ACR(combined_lines)/b/epsilon*(10**6) #uM/S  \n",
    "acp_rate_errors=sort_by_ACR(combined_line_errs)/b/epsilon*(10**6)\n",
    "    "
   ]
  },
  {
   "cell_type": "code",
   "execution_count": 19,
   "metadata": {},
   "outputs": [
    {
     "data": {
      "text/plain": [
       "Text(0, 0.5, 'Rate (µM TNB /s)')"
      ]
     },
     "execution_count": 19,
     "metadata": {},
     "output_type": "execute_result"
    },
    {
     "data": {
      "text/plain": [
       "<Figure size 288x180 with 0 Axes>"
      ]
     },
     "metadata": {},
     "output_type": "display_data"
    },
    {
     "data": {
      "image/png": "[encoded data removed]",
      "text/plain": [
       "<Figure size 216x180 with 1 Axes>"
      ]
     },
     "metadata": {
      "needs_background": "light"
     },
     "output_type": "display_data"
    }
   ],
   "source": [
    "from scipy.optimize import curve_fit\n",
    "\n",
    "#Specify the michaelis menten kinetics equation\n",
    "def func(S,Km,Vmax):\n",
    "    return Vmax*S/(Km+S)\n",
    "\n",
    "color_dict={'MA-ACR':'#006699','MAB-ACR':'#6699CC','MAT-ACR':'#FFCC00','ACR-83':'forestgreen'} #dictionary for making the colors match up\n",
    "renamed_ACRs={'MA-ACR':'Parent A','MAB-ACR':'Parent B','MAT-ACR':'Parent T','ACR-83':'ATR-83'} #Dictionary for renaming ACRs (consistency )\n",
    "\n",
    "#Apply the non-linear regression to all the cuves \n",
    "x=acp_rates.index #set the x axis\n",
    "plt.figure(figsize=(4,2.5))\n",
    "\n",
    "params=pd.DataFrame(index=['Km (µM)','Vmax (µM/s)','Km Error (µM)','Vmax Error (µM/s)'])\n",
    "\n",
    "plt.figure(figsize=(3,2.5))\n",
    "for A in acp_rates.columns.drop('No ACR'):\n",
    "    y=acp_rates[A] #get the y values \n",
    "    popt,pcov=curve_fit(func,x,y,p0=[1,np.max(y)],bounds=[(0,0),(100000,10)]) #Fit the curve \n",
    "    \n",
    "    #Update the parameters dataframe\n",
    "    params[A]=list(popt)+list(np.sqrt(np.diag(pcov)))\n",
    "    \n",
    "    plt.errorbar(x,acp_rates[A],yerr=acp_rate_errors[A],fmt='o',color=color_dict[A],label=renamed_ACRs[A])\n",
    "    \n",
    "    xsmooth=np.linspace(0,np.max(x))\n",
    "    plt.plot(xsmooth,func(xsmooth,*popt),'--',color=color_dict[A])\n",
    "    \n",
    "plt.legend(bbox_to_anchor=(1,1))\n",
    "plt.xlabel('[Palmitoyl-ACP] (µM)')\n",
    "plt.ylabel('Rate (µM TNB /s)')"
   ]
  },
  {
   "cell_type": "markdown",
   "metadata": {},
   "source": [
    "Plot of the initial rate data for palmitoyl-ACP activity and the Michaelis-Menten model fits."
   ]
  },
  {
   "cell_type": "code",
   "execution_count": 20,
   "metadata": {},
   "outputs": [
    {
     "data": {
      "text/html": [
       "<div>\n",
       "<style scoped>\n",
       "    .dataframe tbody tr th:only-of-type {\n",
       "        vertical-align: middle;\n",
       "    }\n",
       "\n",
       "    .dataframe tbody tr th {\n",
       "        vertical-align: top;\n",
       "    }\n",
       "\n",
       "    .dataframe thead th {\n",
       "        text-align: right;\n",
       "    }\n",
       "</style>\n",
       "<table border=\"1\" class=\"dataframe\">\n",
       "  <thead>\n",
       "    <tr style=\"text-align: right;\">\n",
       "      <th></th>\n",
       "      <th>Km (µM)</th>\n",
       "      <th>Vmax (µM/s)</th>\n",
       "      <th>Km Error (µM)</th>\n",
       "      <th>Vmax Error (µM/s)</th>\n",
       "      <th>kcat (s^-1)</th>\n",
       "      <th>kcat/Km (µM^-1 s^-1)</th>\n",
       "      <th>kcat/Km (µM^-1 min^-1)</th>\n",
       "    </tr>\n",
       "  </thead>\n",
       "  <tbody>\n",
       "    <tr>\n",
       "      <th>ACR-83</th>\n",
       "      <td>18.306513</td>\n",
       "      <td>0.067438</td>\n",
       "      <td>4.521317e+00</td>\n",
       "      <td>0.007616</td>\n",
       "      <td>0.067438</td>\n",
       "      <td>0.003684</td>\n",
       "      <td>0.221031</td>\n",
       "    </tr>\n",
       "    <tr>\n",
       "      <th>MA-ACR</th>\n",
       "      <td>197.581726</td>\n",
       "      <td>0.082805</td>\n",
       "      <td>3.380448e+02</td>\n",
       "      <td>0.121588</td>\n",
       "      <td>0.082805</td>\n",
       "      <td>0.000419</td>\n",
       "      <td>0.025146</td>\n",
       "    </tr>\n",
       "    <tr>\n",
       "      <th>MAB-ACR</th>\n",
       "      <td>21.951835</td>\n",
       "      <td>0.046852</td>\n",
       "      <td>8.711121e+00</td>\n",
       "      <td>0.009073</td>\n",
       "      <td>0.046852</td>\n",
       "      <td>0.002134</td>\n",
       "      <td>0.128059</td>\n",
       "    </tr>\n",
       "    <tr>\n",
       "      <th>MAT-ACR</th>\n",
       "      <td>25096.489283</td>\n",
       "      <td>6.647292</td>\n",
       "      <td>1.292897e+07</td>\n",
       "      <td>3419.804142</td>\n",
       "      <td>6.647292</td>\n",
       "      <td>0.000265</td>\n",
       "      <td>0.015892</td>\n",
       "    </tr>\n",
       "  </tbody>\n",
       "</table>\n",
       "</div>"
      ],
      "text/plain": [
       "              Km (µM)  Vmax (µM/s)  Km Error (µM)  Vmax Error (µM/s)  \\\n",
       "ACR-83      18.306513     0.067438   4.521317e+00           0.007616   \n",
       "MA-ACR     197.581726     0.082805   3.380448e+02           0.121588   \n",
       "MAB-ACR     21.951835     0.046852   8.711121e+00           0.009073   \n",
       "MAT-ACR  25096.489283     6.647292   1.292897e+07        3419.804142   \n",
       "\n",
       "         kcat (s^-1)  kcat/Km (µM^-1 s^-1)  kcat/Km (µM^-1 min^-1)  \n",
       "ACR-83      0.067438              0.003684                0.221031  \n",
       "MA-ACR      0.082805              0.000419                0.025146  \n",
       "MAB-ACR     0.046852              0.002134                0.128059  \n",
       "MAT-ACR     6.647292              0.000265                0.015892  "
      ]
     },
     "execution_count": 20,
     "metadata": {},
     "output_type": "execute_result"
    }
   ],
   "source": [
    "params=params.T\n",
    "\n",
    "enzyme_conc=1 #concentration of enzyme in micromolar\n",
    "\n",
    "params['kcat (s^-1)']=params['Vmax (µM/s)']/enzyme_conc\n",
    "params['kcat/Km (µM^-1 s^-1)']=params['kcat (s^-1)']/params['Km (µM)']\n",
    "params['kcat/Km (µM^-1 min^-1)']=params['kcat/Km (µM^-1 s^-1)']*60\n",
    "params"
   ]
  },
  {
   "cell_type": "markdown",
   "metadata": {},
   "source": [
    "# Training the Final Regression Model (Supplementary Figure 5)\n"
   ]
  },
  {
   "cell_type": "code",
   "execution_count": 21,
   "metadata": {},
   "outputs": [],
   "source": [
    "#Load the structural representation\n",
    "\n",
    "structural_encoding=pickle.load(open('ACR_structural_encoding.p','rb'))\n",
    "\n",
    "#Don't use Y, Yall, or act from the pickled structure representation, only use X, Xall, chimeras, all_chimeras and chimera2AA\n",
    "#Instead of Y, use the titers from this workbook to calculate Y \n",
    "Y_orig=structural_encoding[1]\n",
    "X=structural_encoding[0]\n",
    "chimeras=structural_encoding[3]\n",
    "Xall=structural_encoding[4]\n",
    "all_chimeras=structural_encoding[5]\n",
    "chimera2AA=structural_encoding[6]\n",
    "\n",
    "#Make a dict mapping chimera (block seq) to Y\n",
    "#I'm doing this as an extra step just in case something happens to get misaligned in the dataframe\n",
    "chimera2Y={str(finalized_no_AHRs['Block'].iloc[i]):np.log(finalized_no_AHRs['Titer'].iloc[i]) for i in range(len(finalized_no_AHRs))}\n",
    "\n",
    "#Get Y\n",
    "Y=np.array([chimera2Y[c] for c in chimeras])\n",
    "Y=Y.reshape(len(Y),1) #Reshape Y to make it work properly \n"
   ]
  },
  {
   "cell_type": "markdown",
   "metadata": {},
   "source": [
    "There are a few cases where the updated data deviates slightly from the \"original\" data due to additional repicates being performed. However, this graph shows that in most cases the original dataset and the update dataset fall along the x=y line "
   ]
  },
  {
   "cell_type": "code",
   "execution_count": 22,
   "metadata": {},
   "outputs": [
    {
     "name": "stderr",
     "output_type": "stream",
     "text": [
      "/Users/jgreenhalgh2/Desktop/ML_Guided_AAR_Eng_Analysis_and_Protabank_File_Prep/Analysis/UCB_tools.py:162: RuntimeWarning: divide by zero encountered in true_divide\n",
      "  Xtr = (Xtr - Xmean)/Xstd\n",
      "/Users/jgreenhalgh2/Desktop/ML_Guided_AAR_Eng_Analysis_and_Protabank_File_Prep/Analysis/UCB_tools.py:162: RuntimeWarning: invalid value encountered in true_divide\n",
      "  Xtr = (Xtr - Xmean)/Xstd\n",
      "/Users/jgreenhalgh2/Desktop/ML_Guided_AAR_Eng_Analysis_and_Protabank_File_Prep/Analysis/UCB_tools.py:163: RuntimeWarning: invalid value encountered in true_divide\n",
      "  Xtst = (Xtst - Xmean)/Xstd\n"
     ]
    }
   ],
   "source": [
    "#Cross validate with the updated Y (This step can take a while)\n",
    "lam_array,cc_array,err_2_array=UCB_tools.GP_cross_val_scan(X,Y,lam_start=-6,lam_end=4,num_lam=100,showplot='False')\n"
   ]
  },
  {
   "cell_type": "markdown",
   "metadata": {},
   "source": [
    "Check the cross validation scans. "
   ]
  },
  {
   "cell_type": "code",
   "execution_count": 23,
   "metadata": {},
   "outputs": [
    {
     "data": {
      "text/plain": [
       "Text(0, 0.5, 'Squared Error')"
      ]
     },
     "execution_count": 23,
     "metadata": {},
     "output_type": "execute_result"
    },
    {
     "data": {
      "image/png": "[encoded data removed]",
      "text/plain": [
       "<Figure size 720x288 with 2 Axes>"
      ]
     },
     "metadata": {
      "needs_background": "light"
     },
     "output_type": "display_data"
    }
   ],
   "source": [
    "lam_all=lam_array[np.argmin(err_2_array)]\n",
    "\n",
    "plt.figure(figsize=(10,4))\n",
    "plt.subplot(1,2,1)\n",
    "plt.semilogx(lam_array,cc_array,'-')\n",
    "plt.semilogx(lam_all,cc_array[np.argmax(cc_array)],'o', color='orange')\n",
    "plt.xlabel('lambda')\n",
    "plt.ylabel('Correlation Coefficient')\n",
    "\n",
    "plt.subplot(1,2,2)\n",
    "plt.loglog(lam_array,err_2_array,'-')\n",
    "plt.loglog(lam_all,err_2_array[np.argmin(err_2_array)],'o',color='orange')\n",
    "plt.xlabel('lambda')\n",
    "plt.ylabel('Squared Error')\n"
   ]
  },
  {
   "cell_type": "markdown",
   "metadata": {},
   "source": [
    "Plot the final cross validated result (Figure S5)"
   ]
  },
  {
   "cell_type": "code",
   "execution_count": 24,
   "metadata": {},
   "outputs": [
    {
     "name": "stderr",
     "output_type": "stream",
     "text": [
      "/Users/jgreenhalgh2/Desktop/ML_Guided_AAR_Eng_Analysis_and_Protabank_File_Prep/Analysis/UCB_tools.py:162: RuntimeWarning: divide by zero encountered in true_divide\n",
      "  Xtr = (Xtr - Xmean)/Xstd\n",
      "/Users/jgreenhalgh2/Desktop/ML_Guided_AAR_Eng_Analysis_and_Protabank_File_Prep/Analysis/UCB_tools.py:162: RuntimeWarning: invalid value encountered in true_divide\n",
      "  Xtr = (Xtr - Xmean)/Xstd\n",
      "/Users/jgreenhalgh2/Desktop/ML_Guided_AAR_Eng_Analysis_and_Protabank_File_Prep/Analysis/UCB_tools.py:163: RuntimeWarning: invalid value encountered in true_divide\n",
      "  Xtst = (Xtst - Xmean)/Xstd\n"
     ]
    },
    {
     "data": {
      "text/plain": [
       "Text(3, 0, 'CC=0.9159')"
      ]
     },
     "execution_count": 24,
     "metadata": {},
     "output_type": "execute_result"
    },
    {
     "data": {
      "image/png": "[encoded data removed]",
      "text/plain": [
       "<Figure size 864x360 with 1 Axes>"
      ]
     },
     "metadata": {
      "needs_background": "light"
     },
     "output_type": "display_data"
    }
   ],
   "source": [
    "#Plot the cross validation curves\n",
    "Y_hat_cv=UCB_tools.GP_cross_val(X,Y,lam_all)  #Cross validate the model with the given value of lambda\n",
    "plt.figure(figsize=(12,5))\n",
    "plt.subplot(1,2,1)\n",
    "plt.plot(Y,Y_hat_cv,'o')\n",
    "plt.plot([-1.5, 4.5],[-1.5, 4.5],'k--')\n",
    "plt.xlabel('log(Titer) Actual')\n",
    "plt.ylabel('log(Titer) Predicted')\n",
    "plt.text(3,0,'CC=' + str(round(np.corrcoef(Y[:,0],Y_hat_cv[:,0])[0,1],4)))\n"
   ]
  },
  {
   "cell_type": "markdown",
   "metadata": {},
   "source": [
    "The model shows a very clear correlation between the predicted and actual titers after leave-one-out cross validation."
   ]
  },
  {
   "cell_type": "markdown",
   "metadata": {},
   "source": [
    "# Analysis of Regression Models (Figure 4a) \n",
    "Use the regression model to back-calculate contributions that each sequence block makes to the activity of any chimera containing it. "
   ]
  },
  {
   "cell_type": "code",
   "execution_count": 25,
   "metadata": {},
   "outputs": [],
   "source": [
    "#First rebuild the encoding so that predictions can be made over tested and untested seqs simultaneously\n",
    "X_all_seqs=np.vstack((X,Xall))\n",
    "\n",
    "#Make a list of all the block sequences excluding the tested \n",
    "all_untested_block_seqs=[[c for c in chimera2AA if chimera2AA[c]==all_chimeras[i]][0] for i in range(len(Xall))]\n",
    "\n",
    "#Combine the lists of block seqs \n",
    "blocks_combined_all=chimeras+all_untested_block_seqs\n"
   ]
  },
  {
   "cell_type": "code",
   "execution_count": 26,
   "metadata": {},
   "outputs": [
    {
     "name": "stderr",
     "output_type": "stream",
     "text": [
      "/Users/jgreenhalgh2/Desktop/ML_Guided_AAR_Eng_Analysis_and_Protabank_File_Prep/Analysis/UCB_tools.py:162: RuntimeWarning: divide by zero encountered in true_divide\n",
      "  Xtr = (Xtr - Xmean)/Xstd\n",
      "/Users/jgreenhalgh2/Desktop/ML_Guided_AAR_Eng_Analysis_and_Protabank_File_Prep/Analysis/UCB_tools.py:162: RuntimeWarning: invalid value encountered in true_divide\n",
      "  Xtr = (Xtr - Xmean)/Xstd\n",
      "/Users/jgreenhalgh2/Desktop/ML_Guided_AAR_Eng_Analysis_and_Protabank_File_Prep/Analysis/UCB_tools.py:163: RuntimeWarning: divide by zero encountered in true_divide\n",
      "  Xtst = (Xtst - Xmean)/Xstd\n",
      "/Users/jgreenhalgh2/Desktop/ML_Guided_AAR_Eng_Analysis_and_Protabank_File_Prep/Analysis/UCB_tools.py:163: RuntimeWarning: invalid value encountered in true_divide\n",
      "  Xtst = (Xtst - Xmean)/Xstd\n"
     ]
    }
   ],
   "source": [
    "#Make predictions over the sequence spaces \n",
    "Y_combined_all, CI_combined_all=UCB_tools.GPfit(X,Y,X_all_seqs,lam_all)\n"
   ]
  },
  {
   "cell_type": "markdown",
   "metadata": {},
   "source": [
    "Calculate the contributions for each block (Figure 4a)."
   ]
  },
  {
   "cell_type": "code",
   "execution_count": 27,
   "metadata": {},
   "outputs": [],
   "source": [
    "#Define a function to count the occurences of each block \n",
    "\n",
    "def get_average_activity(Y_combined,blocks_combined):\n",
    "    #Y_combined is the list of predicted activities\n",
    "    #blocks_combined is the list of sequences corresponding to the predicted activities \n",
    "    \n",
    "    Y_summed=np.zeros([3,8])  #Running Sum of Y for sequences containing the block in question at position i,j\n",
    "    Instances=np.zeros([3,8]) #Keep a running total of the number of sequences containing the blocks in question\n",
    "\n",
    "    for i in range(len(blocks_combined)):\n",
    "        seq=blocks_combined[i]\n",
    "        for j in range(len(seq)):\n",
    "            block=seq[j]\n",
    "            parent=int(block)-1\n",
    "\n",
    "            if (parent,j)!=(1,5): #If the block is not parent 2 at position 6\n",
    "                Y_summed[parent][j]+=Y_combined[i]\n",
    "                Instances[parent][j]+=1\n",
    "            if (parent,j)==(1,5): #If the block is parent 2 at position 6 (only 1 case, the WT)\n",
    "                Y_summed[parent-1][j]+=Y_combined[i]\n",
    "                Instances[parent-1][j]+=1\n",
    "                \n",
    "                \n",
    "    Y_summed_df=pd.DataFrame(Y_summed,columns=['b1','b2','b3','b4','b5','b6','b7','b8'],index=['p1','p2','p3'])\n",
    "    Instances_df=pd.DataFrame(Instances,columns=['b1','b2','b3','b4','b5','b6','b7','b8'],index=['p1','p2','p3'])\n",
    "\n",
    "                \n",
    "    return(Y_summed_df,Instances_df)\n"
   ]
  },
  {
   "cell_type": "code",
   "execution_count": 28,
   "metadata": {},
   "outputs": [
    {
     "name": "stdout",
     "output_type": "stream",
     "text": [
      "Coefficients with all sequences\n"
     ]
    },
    {
     "data": {
      "image/png": "[encoded data removed]",
      "text/plain": [
       "<Figure size 432x144 with 2 Axes>"
      ]
     },
     "metadata": {
      "needs_background": "light"
     },
     "output_type": "display_data"
    }
   ],
   "source": [
    "Y_summed_all,Instances_all=get_average_activity(Y_combined_all,blocks_combined_all)\n",
    "\n",
    "Averaged_df=Y_summed_all/Instances_all\n",
    "\n",
    "#Subtract out the average predicted titer \n",
    "Centered_df=Averaged_df-np.average(Y_combined_all)\n",
    "\n",
    "#Fix the coefficient for p2 block 6 so that it matches p1 block 6 (the sequences are the same)\n",
    "#Centered_df['b6']['p2']=Centered_df['b6']['p1'] #Fil this in later\n",
    "\n",
    "plt.figure(figsize=(6,2))\n",
    "sns.heatmap(Centered_df,center=0,cmap='RdBu',annot=True)\n",
    "print('Coefficients with all sequences')"
   ]
  },
  {
   "cell_type": "markdown",
   "metadata": {},
   "source": [
    "For these coefficients, p1 is MA-ACR, p2 is Parent B, and p3 is Parent T. The more positive the number, the higher chance a sequence containing that block would have a higher titer. The more negative, the less likely it would produce a lot of alcohols. \n"
   ]
  },
  {
   "cell_type": "markdown",
   "metadata": {},
   "source": [
    "# Charge near the active site (Figure 4c)\n"
   ]
  },
  {
   "cell_type": "code",
   "execution_count": 29,
   "metadata": {},
   "outputs": [],
   "source": [
    "from scipy.spatial import distance \n",
    "from scipy.stats import f_oneway \n",
    "from scipy.stats import ttest_ind\n",
    "from pymol import cmd\n",
    "from pymol import stored"
   ]
  },
  {
   "cell_type": "code",
   "execution_count": 30,
   "metadata": {},
   "outputs": [
    {
     "name": "stdout",
     "output_type": "stream",
     "text": [
      " PyMOL not running, entering library mode (experimental)\n"
     ]
    }
   ],
   "source": [
    "#Read in the pdb file for the MA-ACR model and pull out the lines for each of the atoms \n",
    "model='maacr_prepacked_local_dock_0685.pdb'\n",
    "file_list=[l for l in open(model,'r') if l[:4]=='ATOM']\n",
    "\n",
    "cmd.load(model) #load the file\n",
    "cmd.orient()    #oreint the file"
   ]
  },
  {
   "cell_type": "code",
   "execution_count": 31,
   "metadata": {},
   "outputs": [],
   "source": [
    "#Load the block alignment\n",
    "block_aln=pickle.load(open('acr_block_aln.p','rb'))\n",
    "block_aln_df=pd.DataFrame(block_aln)\n"
   ]
  },
  {
   "cell_type": "code",
   "execution_count": 32,
   "metadata": {},
   "outputs": [],
   "source": [
    "#Make file_list into a coordinate df (coord_df)\n",
    "coord_df=pd.DataFrame()\n",
    "coord_df['Resn']=[l[17:20] for l in file_list]\n",
    "coord_df['ba_Resi']=[int(l[23:26])+3 if int(l[23:26])>67 and l[21]=='A' else int(l[23:26]) for l in file_list] #To match the block alignment...\n",
    "coord_df['Resi']=[int(l[23:26]) for l in file_list] #Original numbering\n",
    "coord_df['x']=[float(l[30:38]) for l in file_list]\n",
    "coord_df['y']=[float(l[38:46]) for l in file_list]\n",
    "coord_df['z']=[float(l[46:54]) for l in file_list]\n",
    "coord_df['chain']=[l[21] for l in file_list]\n",
    "coord_df['atom']=[l[77:80] for l in file_list]\n"
   ]
  },
  {
   "cell_type": "code",
   "execution_count": 33,
   "metadata": {},
   "outputs": [],
   "source": [
    "#Compressed form \n",
    "def get_resis_within_radius(radius):\n",
    "    '''Function to determine a list of all positions containing a charged residue based on the above coordinates'''\n",
    "    cmd.select('chain A within '+str(radius)+' of chain B')\n",
    "    #Make a list of the the atom numbers within the threshold \n",
    "    stored.atom_list=[]\n",
    "    cmd.iterate('sele','stored.atom_list.append(resi)')\n",
    "    resi_num_list=list(sorted(set(stored.atom_list)))\n",
    "    #Make a coord_df of just the resi info for chain A (ACR)\n",
    "    resi_nums=coord_df[coord_df['chain']=='A'][['Resn','ba_Resi','Resi']]\n",
    "\n",
    "    #Drop out the replicate rows \n",
    "    resi_nums.drop_duplicates(inplace=True)\n",
    "    resi_nums.index=[str(l) for l in resi_nums['Resi']]\n",
    "    \n",
    "    #Now extract all the ba_resi values and read into block_aln_coord_df\n",
    "    in_radius=block_aln_df.loc[list(resi_nums.loc[resi_num_list]['ba_Resi']-1)]\n",
    "\n",
    "    charged_resis=['R','K','E','D']\n",
    "\n",
    "    #Look at just those residues in the radius that are charged \n",
    "    charged_in_radius=in_radius[(in_radius[1].isin(charged_resis)) | (in_radius[2].isin(charged_resis)) | (in_radius[3].isin(charged_resis))]\n",
    "\n",
    "    return charged_in_radius"
   ]
  },
  {
   "cell_type": "code",
   "execution_count": 34,
   "metadata": {},
   "outputs": [],
   "source": [
    "def count_charged_resis(chim,charged_in_radius):\n",
    "    '''Function to count specifically the number of positive and negative residues given a list of charged residues and a chimera sequence'''\n",
    "    neg_r=['D','E']\n",
    "    pos_r=['K','R']\n",
    "    pos=0\n",
    "    neg=0\n",
    "    for i in range(len(chim)):\n",
    "        charged_in_radius[charged_in_radius[0]==i][int(chim[i])]\n",
    "        #Count each kind of residue\n",
    "        for r in neg_r:\n",
    "            neg+=charged_in_radius[charged_in_radius[0]==i][int(chim[i])].str.count(r).sum()\n",
    "        for r in pos_r:\n",
    "            pos+=charged_in_radius[charged_in_radius[0]==i][int(chim[i])].str.count(r).sum()\n",
    "\n",
    "    net=pos-neg\n",
    "    tot=pos+neg\n",
    "    return [pos,neg,net,tot]"
   ]
  },
  {
   "cell_type": "code",
   "execution_count": 35,
   "metadata": {},
   "outputs": [],
   "source": [
    "#Build dfs containing the information about charges at different thresholds\n",
    "in_radius10=get_resis_within_radius(10)\n",
    "charged10=[count_charged_resis(str(chim),in_radius10) for chim in finalized_no_AHRs['Block']]\n",
    "charged10=pd.DataFrame(charged10,columns=['pos','neg','net','tot'],index=finalized_no_AHRs.index)\n",
    "charged10['Titer']=finalized_no_AHRs['Titer'] #Add titer to the df\n",
    "charged10['Block']=finalized_no_AHRs['Block'] #Add block sequence to the df\n"
   ]
  },
  {
   "cell_type": "code",
   "execution_count": 36,
   "metadata": {},
   "outputs": [
    {
     "data": {
      "text/plain": [
       "Text(0.5, 0, 'Net Charge Within 10Å of ACP')"
      ]
     },
     "execution_count": 36,
     "metadata": {},
     "output_type": "execute_result"
    },
    {
     "data": {
      "image/png": "[encoded data removed]",
      "text/plain": [
       "<Figure size 432x288 with 1 Axes>"
      ]
     },
     "metadata": {
      "needs_background": "light"
     },
     "output_type": "display_data"
    }
   ],
   "source": [
    "parents=['MA-ACR (Parent A)','Parent B (Fusion A-B)','Parent T (Fusion A-T)']\n",
    "\n",
    "col='net'\n",
    "dframe=charged10\n",
    "plt.figure()\n",
    "dframe['parent']=['Parents' if c in parents else '' for c in dframe.index]\n",
    "dframe['xxxBxxAB']=['Contains Blocks' if str(dframe['Block'][c])[3]=='2' and str(dframe['Block'][c])[7]=='2' and str(dframe['Block'][c])[6]=='1' else 'Parents' if c in parents else 'Doesn\\'t Contain All' for c in dframe.index]\n",
    "dframe['b4pB']=['Parents' if c in parents else 'Contains Blocks' if str(dframe['Block'][c])[3]=='2' else '' for c in dframe.index]\n",
    "dframe['b6pA']=['Parents' if c in parents else 'Contains Blocks' if str(dframe['Block'][c])[3]=='2' else '' for c in dframe.index]\n",
    "dframe['b7pA']=['Parents' if c in parents else 'Contains Blocks' if str(dframe['Block'][c])[6]=='1' else '' for c in dframe.index]\n",
    "dframe['b8pB']=['Parents' if c in parents else 'Contains Blocks' if str(dframe['Block'][c])[7]=='2' else '' for c in dframe.index]\n",
    "dframe['Combined']=dframe['b4pB']+dframe['b7pA']+dframe['b8pB']\n",
    "\n",
    "#Make sure these all match up\n",
    "hue_order=['Parents','None','1/3','2/3','All 3']\n",
    "dframe['Combined_nums']=[hue_order[0] if c in parents else hue_order[-1] if dframe['Combined'][c]==3*'Contains Blocks' else hue_order[-2] if dframe['Combined'][c]==2*'Contains Blocks' else hue_order[-3] if dframe['Combined'][c]=='Contains Blocks' else hue_order[-4] for c in dframe.index]\n",
    "color_pal={hue_order[0]:(0,0,0),hue_order[1]:(0.95,0.95,0.95),hue_order[2]:'#e5f5e0',hue_order[3]:'#a1d99b',hue_order[4]:'#31a354'}\n",
    "\n",
    "#Contains b4pB, b7pA and b8pB\n",
    "sns.swarmplot(x=dframe[col],y=dframe['Titer'],marker='o',hue=dframe['Combined_nums'],palette=color_pal,hue_order=hue_order,edgecolor='k',linewidth=0.5)\n",
    "plt.legend(title='')\n",
    "\n",
    "means=[dframe[dframe[col]==i]['Titer'].mean() for i in sorted(set(dframe[col]))]\n",
    "plt.plot([i-dframe[col].min() for i in sorted(set(dframe[col]))],means,'k_',zorder=10)\n",
    "\n",
    "plt.xlabel('Net Charge Within 10Å of ACP')\n"
   ]
  },
  {
   "cell_type": "markdown",
   "metadata": {},
   "source": [
    "Plot of chimera titer grouped by net charge near the ACP binding site (based on a model of MA-ACR). There appears to be a positive correlation between sequences with a high net charge and a high activity."
   ]
  },
  {
   "cell_type": "markdown",
   "metadata": {},
   "source": [
    "# RASPP Analysis (Supplementary Figure 1)"
   ]
  },
  {
   "cell_type": "code",
   "execution_count": 37,
   "metadata": {},
   "outputs": [
    {
     "data": {
      "text/plain": [
       "<matplotlib.legend.Legend at 0x7ff377c48050>"
      ]
     },
     "execution_count": 37,
     "metadata": {},
     "output_type": "execute_result"
    },
    {
     "data": {
      "image/png": "[encoded data removed]",
      "text/plain": [
       "<Figure size 432x432 with 1 Axes>"
      ]
     },
     "metadata": {
      "needs_background": "light"
     },
     "output_type": "display_data"
    }
   ],
   "source": [
    "#Load the data \n",
    "rasppdf=pd.read_excel('Raw_Data/RASPP_Output_9-27-17_condensed.xlsx')\n",
    "\n",
    "#Plot the data \n",
    "plt.figure(figsize=(6,6))\n",
    "sns.scatterplot(rasppdf['M Rand'], rasppdf['E Rand'],marker='o',label='Random',color='0.9',edgecolor='0.7')\n",
    "sns.scatterplot(rasppdf['M RASPP'],rasppdf['E RASPP'],marker='o',label='Optimized',color='0.6',edgecolor='0.4')\n",
    "\n",
    "#These two data points are the same (E and m) even thorugh they're from slightly different libs\n",
    "plt.scatter(rasppdf['M RASPP'][59],rasppdf['E RASPP'][59],marker='o',label='Selected',color='k',edgecolor='k') \n",
    "plt.legend()"
   ]
  },
  {
   "cell_type": "markdown",
   "metadata": {},
   "source": [
    "RASPP optimization curve, each point represents one potential library (set of breakpoints). The library selected is shown in black. "
   ]
  },
  {
   "cell_type": "markdown",
   "metadata": {},
   "source": [
    "# UCB Round 1 Data (Supplementary Figure 2)"
   ]
  },
  {
   "cell_type": "code",
   "execution_count": 38,
   "metadata": {},
   "outputs": [],
   "source": [
    "#Load the BL21 (DE3) and CM24 Datasets\n",
    "bl21=pd.read_excel('../Relabeling_and_Protabank_Prep/Relabeled_Data/BL21_Relabeled.xlsx')\n",
    "cm24=pd.read_excel('../Relabeling_and_Protabank_Prep/Relabeled_Data/CM24_Relabeled.xlsx',index_col=0)"
   ]
  },
  {
   "cell_type": "code",
   "execution_count": 39,
   "metadata": {},
   "outputs": [
    {
     "data": {
      "text/plain": [
       "Text(0, 0.5, 'Titer (mg/L)')"
      ]
     },
     "execution_count": 39,
     "metadata": {},
     "output_type": "execute_result"
    },
    {
     "data": {
      "image/png": "[encoded data removed]",
      "text/plain": [
       "<Figure size 288x864 with 3 Axes>"
      ]
     },
     "metadata": {
      "needs_background": "light"
     },
     "output_type": "display_data"
    }
   ],
   "source": [
    "test_set=sorted(list(set(bl21['Final_Label'])))\n",
    "test_set.remove('Empty Backbone')\n",
    "lengths=['C6','C8','C10','C12','C14','C16'] #carbon chain lengths\n",
    "cmap=sns.color_palette('viridis',6)\n",
    "cdict={lengths[i]:cmap[i] for i in range(len(lengths))}\n",
    "\n",
    "plt.figure(figsize=(4,12))\n",
    "bottoms=np.zeros(len(test_set))\n",
    "\n",
    "plt.subplot(3,1,1)\n",
    "plt.title('BL21 (DE3)') #BL21(DE3) Data\n",
    "for c in lengths[1:]: #note fewer chain lengths for BL21 (DE3) dataset\n",
    "    c_avg=[bl21[bl21['Final_Label']==L][c].mean() for L in test_set] #Average the replicates\n",
    "    c_err=[bl21[bl21['Final_Label']==L][c].std() for L in test_set]  #Find the standard deviation\n",
    "    plt.bar(np.arange(len(test_set)),c_avg,bottom=bottoms,yerr=c_err,color=cdict[c])#Plot the data\n",
    "    bottoms=bottoms+c_avg                                            #Update the bottom\n",
    "plt.xticks([])\n",
    "plt.ylabel('Titer (mg/L)')\n",
    "\n",
    "plt.subplot(3,1,2)\n",
    "plt.title('CM24') #CM24 Data\n",
    "bottoms=np.zeros(len(test_set))\n",
    "for c in lengths: \n",
    "    c_avg=[cm24[cm24['Final_Label']==L][c].mean() for L in test_set] #Average the replicates\n",
    "    c_err=[cm24[cm24['Final_Label']==L][c].std() for L in test_set]  #Find the standard deviation\n",
    "    plt.bar(np.arange(len(test_set)),c_avg,bottom=bottoms,yerr=c_err,color=cdict[c])#Plot the data\n",
    "    bottoms=bottoms+c_avg    #Update the bottom\n",
    "plt.xticks([])\n",
    "plt.ylabel('Titer (mg/L)')\n",
    "    \n",
    "plt.subplot(3,1,3)    \n",
    "plt.title('RL08ara') #RL08ara Data\n",
    "bottoms=np.zeros(len(test_set))\n",
    "for c in lengths: \n",
    "    c_avg=[df[df['Final_Label']==L][c].mean() for L in test_set] #Average the replicates\n",
    "    c_err=[df[df['Final_Label']==L][c].std() for L in test_set]  #Find the standard deviation\n",
    "    plt.bar(np.arange(len(test_set)),c_avg,bottom=bottoms,yerr=c_err,color=cdict[c])#Plot the data\n",
    "    bottoms=bottoms+c_avg\n",
    "plt.xticks(np.arange(len(test_set)),test_set,rotation=90)\n",
    "plt.ylabel('Titer (mg/L)')"
   ]
  },
  {
   "cell_type": "markdown",
   "metadata": {},
   "source": [
    "Plot of the activity of the initial 20 sequences designed in the test set. The sequences were tested in three different strains."
   ]
  },
  {
   "cell_type": "markdown",
   "metadata": {},
   "source": [
    "# Gel Calibration Curve (Supplementary Figure 3)"
   ]
  },
  {
   "cell_type": "code",
   "execution_count": 40,
   "metadata": {},
   "outputs": [
    {
     "data": {
      "text/plain": [
       "Text(0, 0.5, 'Normalized Intensity')"
      ]
     },
     "execution_count": 40,
     "metadata": {},
     "output_type": "execute_result"
    },
    {
     "data": {
      "image/png": "[encoded data removed]",
      "text/plain": [
       "<Figure size 216x216 with 1 Axes>"
      ]
     },
     "metadata": {
      "needs_background": "light"
     },
     "output_type": "display_data"
    }
   ],
   "source": [
    "gel_df=pd.read_excel('Raw_Data/2020_MA-ACR_Expression_Standard_Curves.xlsx')\n",
    "gel_df.set_index(gel_df['[MA-ACR] ug/mL (OD 20)'],inplace=True)\n",
    "gel_df.drop('[MA-ACR] ug/mL (OD 20)',axis=1,inplace=True)\n",
    "\n",
    "plt.figure(figsize=(3,3))\n",
    "x=gel_df.index\n",
    "y=gel_df['20200820_Gel_1']\n",
    "plt.plot(x,y,'ko')\n",
    "#Slope,int values from excel workbook\n",
    "slope,intercept=0.000311765,3.30771E-05\n",
    "plt.plot(x,slope*x+intercept,'k--')\n",
    "plt.xlabel('[MA-ACR] µg/mL (OD 20)')\n",
    "plt.ylabel('Normalized Intensity')"
   ]
  },
  {
   "cell_type": "markdown",
   "metadata": {},
   "source": [
    "Standard curve relating the band intensity of MA-ACR to the concentration of the sample. "
   ]
  },
  {
   "cell_type": "markdown",
   "metadata": {},
   "source": [
    "# Comparison of in vitro CoA and ACP Activities (Supplementary Figure 4)"
   ]
  },
  {
   "cell_type": "code",
   "execution_count": 41,
   "metadata": {},
   "outputs": [],
   "source": [
    "#Get data from part 1 \n",
    "f4='Raw_Data/DNTB_absorbance_assay_Jonathan (Modified)_20200908_122446_Part_1.xlsx'\n",
    "plate_layout='Raw_Data/20200908_Plate_Layout.xlsx'\n",
    "rates4,traces4=get_rates(f4,plate_layout,n_pts=5,skiprows=37,usecols='A:AV',nrows=50)\n",
    "\n",
    "#Get data part 2\n",
    "f5='Raw_Data/DNTB_absorbance_assay_Jonathan (Modified)_20200908_125709_Part_2.xlsx'\n",
    "rates5,traces5=get_rates(f5,plate_layout,n_pts=5,skiprows=37,usecols='A:AV',nrows=50)\n"
   ]
  },
  {
   "cell_type": "code",
   "execution_count": 42,
   "metadata": {},
   "outputs": [],
   "source": [
    "#Get rid of outliers (noisy wells)\n",
    "rates4.drop('B12',inplace=True) \n",
    "traces4.drop('B12',inplace=True)\n"
   ]
  },
  {
   "cell_type": "code",
   "execution_count": 43,
   "metadata": {},
   "outputs": [],
   "source": [
    "def add_conc_and_ACR(df):\n",
    "    '''input is a dataframe where the sample IDs are the row heading\n",
    "       \n",
    "       adds columns to the df to simplify sorting by concentration and ACR\n",
    "    '''\n",
    "    \n",
    "    df['ACR']=[s.split(' + ')[0] for s in df.index]\n",
    "    df['[CoA] (uM)']=[float(s.split(' uM')[0].split('+ ')[1]) for s in df.index]\n",
    "    \n",
    "    return df\n",
    "\n",
    "def sort_by_ACR(df):\n",
    "    new_df=pd.DataFrame(columns=ACRs,index=Concs)\n",
    "    \n",
    "    for A in ACRs:\n",
    "        for C in Concs:\n",
    "            new_df[A][C]=df[df['ACR']==A].set_index('[CoA] (uM)')['Slopes'].loc[C]\n",
    "        \n",
    "    return new_df\n",
    "        \n"
   ]
  },
  {
   "cell_type": "code",
   "execution_count": 44,
   "metadata": {},
   "outputs": [],
   "source": [
    "\n",
    "combined_lines=pd.DataFrame()\n",
    "combined_line_errs=pd.DataFrame()\n",
    "#Combine the rate data from each plate reader run\n",
    "combined_lines=pd.concat([average_replicates(df)[0] for df in [rates4,rates5]],axis=1).T\n",
    "combined_line_errs=pd.concat([average_replicates(df)[1] for df in [rates4,rates5]],axis=1).T\n",
    "\n"
   ]
  },
  {
   "cell_type": "code",
   "execution_count": 45,
   "metadata": {},
   "outputs": [],
   "source": [
    "#Add columns to simplify analysis\n",
    "\n",
    "combined_lines=add_conc_and_ACR(combined_lines)\n",
    "combined_line_errs=add_conc_and_ACR(combined_line_errs)\n"
   ]
  },
  {
   "cell_type": "code",
   "execution_count": 46,
   "metadata": {},
   "outputs": [],
   "source": [
    "#List the unique ACRs \n",
    "ACRs=sorted(list(set([s.split(' + ')[0] for s in combined_lines.index])))\n",
    "\n",
    "#List the concentrations \n",
    "Concs=sorted(list(set([float(s.split(' uM')[0].split('+ ')[1]) for s in combined_lines.index])))\n",
    "\n",
    "rates=sort_by_ACR(combined_lines)    \n",
    "rate_errors=sort_by_ACR(combined_line_errs)"
   ]
  },
  {
   "cell_type": "code",
   "execution_count": 47,
   "metadata": {},
   "outputs": [],
   "source": [
    "#Get the averages of the traces\n",
    "traces4_avg,traces4_err=average_replicates(traces4)\n",
    "traces5_avg,traces5_err=average_replicates(traces5)"
   ]
  },
  {
   "cell_type": "code",
   "execution_count": 48,
   "metadata": {},
   "outputs": [],
   "source": [
    "#Set up for re-calculating and re-plotting the initial rates \n",
    "\n",
    "#Make fucntions to streamline rate calculation\n",
    "def calc_rate(time,trace,npts):\n",
    "    slope,intercept=np.polyfit(time[:npts],trace[:npts],1)\n",
    "    return slope,intercept\n",
    "\n",
    "def init_slope(x,slope,intercept):\n",
    "    y=intercept+slope*x\n",
    "    return y\n",
    "\n",
    "#Get a list of the palmitoyl-CoA Concentrations \n",
    "CoA_Concs=sorted(list(set([l.split(' + ')[1] for l in combined_lines.index])))\n",
    "\n",
    "#Reorder the list \n",
    "CoA_Concs[2],CoA_Concs[3],CoA_Concs[4],CoA_Concs[5]=CoA_Concs[5],CoA_Concs[2],CoA_Concs[3],CoA_Concs[4]\n",
    "\n",
    "#Get a colormap \n",
    "Colors=sns.color_palette('viridis',len(CoA_Concs))\n",
    "\n",
    "#Color Dictionary \n",
    "CD={CoA_Concs[i]:Colors[i] for i in range(len(CoA_Concs))}\n",
    "\n",
    "#Make a dictionary to map the number of points used for fitting the initial rate to the concentration of CoA\n",
    "npts_dict={0:20,1:20,5:20,10:5,20:4,40:20}"
   ]
  },
  {
   "cell_type": "code",
   "execution_count": 49,
   "metadata": {},
   "outputs": [],
   "source": [
    "new_rates=[]\n",
    "\n",
    "#Loop through first batch\n",
    "for t in traces4.T:\n",
    "    rate=calc_rate(list(traces4.columns[:-1]),list(traces4.T[t][:-1]),npts_dict[float(traces4.T[t].loc['Sample'].split(' ')[2])])[0]\n",
    "    new_rates.append([traces4.T[t].loc['Sample'],rate])\n",
    "\n",
    "#Loop through second batch\n",
    "for t in traces5.T:\n",
    "    rate=calc_rate(list(traces5.columns[:-1]),list(traces5.T[t][:-1]),npts_dict[float(traces5.T[t].loc['Sample'].split(' ')[2])])[0]\n",
    "    new_rates.append([traces5.T[t].loc['Sample'],rate])\n",
    "    "
   ]
  },
  {
   "cell_type": "code",
   "execution_count": 50,
   "metadata": {},
   "outputs": [],
   "source": [
    "new_rates=pd.DataFrame(new_rates,columns=['Sample','Slopes']) #Pack the newly calculated rates into a dataframe \n",
    "\n",
    "#Average the replicates \n",
    "avg_rates,err_rates=average_replicates(new_rates)[0].T,average_replicates(new_rates)[1].T\n",
    "\n",
    "#Add labels for the ACR and the concentration of CoA\n",
    "avg_rates=add_conc_and_ACR(avg_rates)\n",
    "err_rates=add_conc_and_ACR(err_rates)\n",
    "\n",
    "#Sort by ACR \n",
    "avg_rates_sorted=sort_by_ACR(avg_rates)\n",
    "err_rates_sorted=sort_by_ACR(err_rates)\n"
   ]
  },
  {
   "cell_type": "code",
   "execution_count": 51,
   "metadata": {},
   "outputs": [
    {
     "data": {
      "text/plain": [
       "Text(0, 0.5, 'Rate Palmitoyl-ACP Consumption (µM TNB/s)')"
      ]
     },
     "execution_count": 51,
     "metadata": {},
     "output_type": "execute_result"
    },
    {
     "data": {
      "image/png": "[encoded data removed]",
      "text/plain": [
       "<Figure size 720x288 with 2 Axes>"
      ]
     },
     "metadata": {
      "needs_background": "light"
     },
     "output_type": "display_data"
    }
   ],
   "source": [
    "avg_rates_sorted=avg_rates_sorted/b/epsilon*(10**6) #uM/S\n",
    "err_rates_sorted=err_rates_sorted/b/epsilon*(10**6)\n",
    "coa_rates_sorted=avg_rates_sorted\n",
    "coa_error_sorted=err_rates_sorted\n",
    "\n",
    "color_dict={'MA-ACR':'#006699','MAB-ACR':'#6699CC','MAT-ACR':'#FFCC00','ACR-83':'forestgreen'} #dictionary for making the colors match up\n",
    "renamed_ATRs={'MA-ACR':'A','MAB-ACR':'B','MAT-ACR':'T','ACR-83':'ATR-83'} #Dictionary for renaming ACRs (consistency )\n",
    "\n",
    "plt.figure(figsize=(10,4))\n",
    "plt.subplot(1,2,1)\n",
    "for A in coa_rates_sorted.columns:\n",
    "    plt.errorbar(coa_rates_sorted.index,coa_rates_sorted[A],yerr=coa_error_sorted[A],fmt=':^',color=color_dict[A],label=renamed_ATRs[A]+' + CoA')\n",
    "    plt.errorbar(acp_rates.index,acp_rates[A],yerr=acp_rate_errors[A],fmt='--o',color=color_dict[A],label=renamed_ATRs[A]+' + ACP')\n",
    "    \n",
    "plt.xlabel('[Palmitoyl-ACP] (µM)')\n",
    "plt.ylabel('Rate (µM TNB /s)')    \n",
    "plt.legend(loc='upper left')\n",
    "\n",
    "plt.subplot(1,2,2)\n",
    "#Plot the activities at 20 uM for CoA vs. ACP\n",
    "for c in coa_rates_sorted.columns:\n",
    "    plt.errorbar(coa_rates_sorted.loc[20][c],acp_rates.loc[20][c],xerr=coa_error_sorted.loc[20][c],yerr=acp_rate_errors.loc[20][c],fmt='o',color=color_dict[c])\n",
    "    \n",
    "plt.xlabel('Rate Palmitoyl-CoA Consumption (µM TNB/s)')\n",
    "plt.ylabel('Rate Palmitoyl-ACP Consumption (µM TNB/s)')"
   ]
  },
  {
   "cell_type": "markdown",
   "metadata": {},
   "source": [
    "Comparison of the activities of select sequences on palmitoyl-ACP and palmitoyl-CoA"
   ]
  },
  {
   "cell_type": "markdown",
   "metadata": {},
   "source": [
    "# Create Source Data File "
   ]
  },
  {
   "cell_type": "code",
   "execution_count": 52,
   "metadata": {},
   "outputs": [],
   "source": [
    "#Make a dataframe containing the raw data used to plot figure 4\n",
    "fig4=pd.DataFrame(df[['Label','Sum C6-C16','Block_seq','Date']],index=df.index)\n",
    "\n",
    "#Add the updated labels to the dataframe \n",
    "fig4['Final_Label']=[final_labels[final_labels['Label']==L].index.values[0] for L in fig4['Label']]\n",
    "\n",
    "#Drop out EV and AHR-ATR fusions (they weren't used in the plot for figure 4)\n",
    "for L in ['Empty Vector','Empty Backbone','MB-ACR','MT-ACR','Fusion T-A','Fusion T-B','Fusion B-A','Fusion B-T']:\n",
    "    fig4=fig4[fig4['Final_Label']!=L]\n",
    "\n",
    "#Add the net charge to the fig4 dataframe using the dframe object as a dictionary \n",
    "fig4['Net Charge']=[dframe.loc[L]['net'] for L in fig4['Final_Label']]"
   ]
  },
  {
   "cell_type": "code",
   "execution_count": 53,
   "metadata": {},
   "outputs": [],
   "source": [
    "#Re-organized the dataframes containing the raw data to be in a consistent order\n",
    "df_reordered=df[['Final_Label','Block_seq','C6','C8','C10','C12','C14','C16','Sum C6-C16','OD (10 fold diluted)','Expression (ug/mL)','Date']]\n",
    "df19_reordered=df19[['Final_Label','Block_seq','C6','C8','C10','C12','C14','C16','Sum C6-C16','OD (10 fold diluted)','Expression (ug/mL)','Date']]\n",
    "df_small_reordered=df_small[['Final_Label','Block_seq','C6','C8','C10','C12','C14','C16','Sum C6-C16','OD (10 fold diluted)','Expression (ug/mL)','Date']]\n",
    "exp_df_reordered=expression_df[['Final_Label','Block_seq','Expression (ug/mL)']]\n",
    "fig4_reordered=fig4[['Final_Label','Block_seq','Sum C6-C16','Net Charge','Date']]\n",
    "cm24_reordered=cm24[['Final_Label','Block_seq','C6','C8','C10','C12','C14','C16','Date']]\n",
    "bl21_reordered=bl21[['Final_Label','Block_seq','C8','C10','C12','C14','C16','Date']]\n",
    "\n",
    "cm24_reordered.index.rename('CM24',inplace=True)\n",
    "bl21_reordered.index.rename('BL21 (DE3)',inplace=True)\n"
   ]
  },
  {
   "cell_type": "code",
   "execution_count": 54,
   "metadata": {},
   "outputs": [],
   "source": [
    "#Rename the indices on the raw time traces for the CoA and ACP experiments\n",
    "traces1.index.rename('Well \\ Time (s)',inplace=True)\n",
    "traces2.index.rename('Well \\ Time (s)',inplace=True)\n",
    "traces3.index.rename('Well \\ Time (s)',inplace=True)\n",
    "traces4.index.rename('Well \\ Time (s)',inplace=True)\n",
    "traces5.index.rename('Well \\ Time (s)',inplace=True)\n"
   ]
  },
  {
   "cell_type": "code",
   "execution_count": 55,
   "metadata": {},
   "outputs": [],
   "source": [
    "#Make a dataframe containing the data for figure S5\n",
    "cross_val_df=pd.DataFrame([Y[:,0],Y_hat_cv[:,0]]).T\n",
    "cross_val_df.columns=['Y actual','Y Predicted']"
   ]
  },
  {
   "cell_type": "code",
   "execution_count": 56,
   "metadata": {},
   "outputs": [],
   "source": [
    "#Show the averaged data for Supplementary Figure 5\n",
    "table5=pd.DataFrame(index=finalized.index)\n",
    "\n",
    "table5['Block_seq']=[df[df['Final_Label']==L]['Block_seq'].iloc[0] for L in table5.index]\n",
    "table5['UCB Titer (mg/L)']=[df19[df19['Final_Label']==L]['Sum C6-C16'].mean() for L in table5.index]\n",
    "table5['UCB Titer Standard Deviation']=[df19[df19['Final_Label']==L]['Sum C6-C16'].std() for L in table5.index]\n",
    "table5['n (UCB)']=[len(df19[df19['Final_Label']==L]['Sum C6-C16']) for L in table5.index]\n",
    "table5['Final Titer (mg/L)']=[df[df['Final_Label']==L]['Sum C6-C16'].mean() for L in table5.index]\n",
    "table5['Final Titer Standard Deviation']=[df[df['Final_Label']==L]['Sum C6-C16'].std() for L in table5.index]\n",
    "table5['n (Final)']=[len(df[df['Final_Label']==L]['Sum C6-C16']) for L in table5.index]"
   ]
  },
  {
   "cell_type": "code",
   "execution_count": 57,
   "metadata": {},
   "outputs": [],
   "source": [
    "#Export data to the source data spreadsheet\n",
    "with pd.ExcelWriter('Source Data.xlsx') as writer:  \n",
    "    \n",
    "    #Main Figures\n",
    "    df_small_reordered.to_excel(writer,sheet_name='Figure 1') #Figure 1\n",
    "    df19_reordered.to_excel(writer,sheet_name='Figure 2')     #Figure 2\n",
    "    exp_df_reordered.to_excel(writer,sheet_name='Figure 3a')  #Figure 3a                                                           \n",
    "    traces1.to_excel(writer,sheet_name='Figure 3b')           #Figure 3b\n",
    "    traces2.to_excel(writer,sheet_name='Figure 3b',startrow=len(traces1)+3)\n",
    "    traces3.to_excel(writer,sheet_name='Figure 3b',startrow=len(traces1)+len(traces2)+6)    \n",
    "    fig4_reordered.to_excel(writer,sheet_name='Figure 4c')    #Figure 4c\n",
    "    df_reordered.to_excel(writer,sheet_name='RL08ara Data')   #Compiled RL08ara data (used in multiple figures)\n",
    "    \n",
    "    #Supplementary Figures \n",
    "    rasppdf.to_excel(writer,sheet_name='Supplementary Figure 1')       #Figure S1\n",
    "    bl21_reordered.to_excel(writer,sheet_name='Supplementary Figure 2') #Figure S2 (BL21 DE3,CM24)\n",
    "    cm24_reordered.to_excel(writer,sheet_name='Supplementary Figure 2',startrow=len(bl21_reordered)+3) #Figure S2 (BL21 DE3,CM24)\n",
    "    gel_df.to_excel(writer,sheet_name='Supplementary Figure 3')        #Figure S3 (Gel)\n",
    "    traces4.to_excel(writer,sheet_name='Supplementary Figure 4')       #Figure S4\n",
    "    traces5.to_excel(writer,sheet_name='Supplementary Figure 4',startrow=len(traces4)+3)\n",
    "    cross_val_df.to_excel(writer,sheet_name='Supplementary Figure 5')#Figure S5\n",
    "    \n",
    "    #Table S5\n",
    "    table5.to_excel(writer,sheet_name='Supplementary Table 5')\n",
    "    "
   ]
  },
  {
   "cell_type": "code",
   "execution_count": null,
   "metadata": {},
   "outputs": [],
   "source": []
  },
  {
   "cell_type": "code",
   "execution_count": null,
   "metadata": {},
   "outputs": [],
   "source": []
  }
 ],
 "metadata": {
  "kernelspec": {
   "display_name": "Python 3",
   "language": "python",
   "name": "python3"
  },
  "language_info": {
   "codemirror_mode": {
    "name": "ipython",
    "version": 3
   },
   "file_extension": ".py",
   "mimetype": "text/x-python",
   "name": "python",
   "nbconvert_exporter": "python",
   "pygments_lexer": "ipython3",
   "version": "3.7.4"
  }
 },
 "nbformat": 4,
 "nbformat_minor": 2
}
